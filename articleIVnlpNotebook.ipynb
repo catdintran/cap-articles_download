{
 "cells": [
  {
   "cell_type": "code",
   "execution_count": 6,
   "metadata": {
    "collapsed": true
   },
   "outputs": [],
   "source": [
    "# import all packages\n",
    "import os, platform\n",
    "import subprocess\n",
    "import shutil\n",
    "import nltk\n",
    "from nltk import *"
   ]
  },
  {
   "cell_type": "markdown",
   "metadata": {
    "raw_mimetype": "text/markdown"
   },
   "source": [
    "This module already contains a /pdf for all IMF Article IV files for analysis. \n",
    "I proceed by reading /pdf to new txt folder named /tmp "
   ]
  },
  {
   "cell_type": "code",
   "execution_count": 7,
   "metadata": {
    "collapsed": false
   },
   "outputs": [
    {
     "name": "stdout",
     "output_type": "stream",
     "text": [
      "['-doc-cr1709.pdf', '-doc-cr1711.pdf', '-doc-cr1715.pdf', '-doc-cr1719.pdf', '-doc-cr1722.pdf', '-doc-cr1723.pdf', '-doc-cr1726.pdf', '-doc-cr1728.pdf', '-doc-cr1730.pdf', '-doc-cr1732.pdf', '-doc-cr1736.pdf', '-doc-cr1737.pdf', '-doc-cr1739.pdf', '-doc-cr1740.pdf', '-doc-cr1742.pdf', '-doc-cr1750.pdf', '-doc-cr1753.pdf', '_cr15178.pdf']\n"
     ]
    }
   ],
   "source": [
    "# PROCESS PDF TO TXT\n",
    "\n",
    "# pdf files dir\n",
    "input = os.getcwd() + '/pdf/'\n",
    "# final dir after converted\n",
    "output = os.getcwd() + '/tmp/'\n",
    "# check/create if output folder exist\n",
    "if not os.path.exists(output):\n",
    "   os.makedirs(output)\n",
    "\n",
    "# process pdf to txt file save in /tmp\n",
    "# check platform system Windows/Macs\n",
    "xpdfPath = ''\n",
    "if platform.system() == 'Windows':\n",
    "     xpdfPath = os.getcwd() + '\\\\xpdfbin-win-3.04\\\\bin64\\\\'\n",
    "else:\n",
    "     xpdfPath = os.getcwd() + '/xpdfbin-mac-3.04/bin64/'\n",
    "\n",
    "#print(\"xpdf: \" + xpdfPath)\n",
    "# store .pdf files from input\n",
    "doc_list = [pdf for pdf in os.listdir(input) if pdf.endswith('.pdf')]\n",
    "# iterate and process doc_list to txt file\n",
    "print(doc_list)\n",
    "for doc in doc_list:\n",
    "    #print(input+doc)\n",
    "    #print(output)\n",
    "    subprocess.call(xpdfPath+'pdftotext ' + input + doc + ' ' + output + doc.replace('.pdf', '.txt'),\n",
    "                        shell=True)\n"
   ]
  },
  {
   "cell_type": "markdown",
   "metadata": {},
   "source": [
    "Once I have a /tmp with all txt files, I start strip out Countries' names from within \n",
    "the document to save them as file names to an actual /txt folder."
   ]
  },
  {
   "cell_type": "code",
   "execution_count": 8,
   "metadata": {
    "collapsed": false
   },
   "outputs": [
    {
     "name": "stdout",
     "output_type": "stream",
     "text": [
      "January 2017\n",
      "\n",
      "\n",
      "\n",
      "IMF Country Report No. 17/9\n",
      "\n",
      "REPUBLIC OF ESTONIA\n",
      "\n",
      "2016 ARTICLE IV CONSULTATION--PRESS RELEASE; STAFF REPORT; AND STATEMENT BY THE EXECUTIVE DIRECTOR FOR THE REPUBLIC OF ESTONIA\n",
      "\n",
      "Under Article IV of the IMF's Articles of Agreement, the IMF holds bilateral discussions with members, usually every year. In the context of the [Consultation Year] Article IV consultation with the Republic of Estonia, the following documents have been released and are included in this package:\n",
      "\n",
      "January 2017\n",
      "\n",
      "\n",
      "\n",
      "IMF Country Report No. 17/11\n",
      "\n",
      "PEOPLE'S REPUBLIC OF CHINA HONG KONG SPECIAL ADMINISTRATIVE REGION\n",
      "\n",
      "2016 ARTICLE IV CONSULTATION--PRESS RELEASE AND STAFF REPORT\n",
      "\n",
      "Under Article IV of the IMF's Articles of Agreement, the IMF holds bilateral discussions with members, usually every year. In the context of the 2016 Article IV consultation with the People's Republic of ChinaHong Kong Special Administrative Region, the following documents have been released and are included in this package:\n",
      "\n",
      "January 2017\n",
      "\n",
      "\n",
      "\n",
      "KUWAIT\n",
      "\n",
      "\n",
      "\n",
      "IMF Country Report No. 17/15\n",
      "\n",
      "\n",
      "\n",
      "January 2017\n",
      "\n",
      "\n",
      "\n",
      "LEBANON\n",
      "\n",
      "\n",
      "\n",
      "IMF Country Report No. 17/19\n",
      "\n",
      "\n",
      "\n",
      "January 2017\n",
      "\n",
      "\n",
      "\n",
      "IMF Country Report No. 17/22\n",
      "\n",
      "PAPUA NEW GUINEA\n",
      "\n",
      "2016 ARTICLE IV CONSULTATION--PRESS RELEASE: AND STAFF REPORT\n",
      "\n",
      "Under Article IV of the IMF's Articles of Agreement, the IMF holds bilateral discussions with members, usually every year. In the context of the 2016 Article IV consultation with Papua New Guinea, the following documents have been released and are included in this package:\n",
      "\n",
      "January 2017\n",
      "\n",
      "\n",
      "\n",
      "SPAIN\n",
      "\n",
      "\n",
      "\n",
      "IMF Country Report No. 17/23\n",
      "\n",
      "\n",
      "\n",
      "February 2017\n",
      "\n",
      "\n",
      "\n",
      "AUSTRIA\n",
      "\n",
      "\n",
      "\n",
      "IMF Country Report No. 17/26\n",
      "\n",
      "\n",
      "\n",
      "February 2017\n",
      "\n",
      "\n",
      "\n",
      "URUGUAY\n",
      "\n",
      "\n",
      "\n",
      "IMF Country Report No. 17/28\n",
      "\n",
      "\n",
      "\n",
      "February 2017\n",
      "\n",
      "\n",
      "\n",
      "MYANMAR\n",
      "\n",
      "\n",
      "\n",
      "IMF Country Report No. 17/30\n",
      "\n",
      "\n",
      "\n",
      "February 2017\n",
      "\n",
      "\n",
      "\n",
      "TURKEY\n",
      "\n",
      "\n",
      "\n",
      "IMF Country Report No. 17/32\n",
      "\n",
      "\n",
      "\n",
      "February 2017\n",
      "\n",
      "\n",
      "\n",
      "MOROCCO\n",
      "\n",
      "\n",
      "\n",
      "IMF Country Report No. 17/36\n",
      "\n",
      "\n",
      "\n",
      "February 2017\n",
      "\n",
      "\n",
      "\n",
      "INDONESIA\n",
      "\n",
      "\n",
      "\n",
      "IMF Country Report No. 17/37\n",
      "\n",
      "\n",
      "\n",
      "February 2017\n",
      "\n",
      "\n",
      "\n",
      "ANGOLA\n",
      "\n",
      "\n",
      "\n",
      "IMF Country Report No. 17/39\n",
      "\n",
      "\n",
      "\n",
      "February 2017\n",
      "\n",
      "\n",
      "\n",
      "GREECE\n",
      "\n",
      "\n",
      "\n",
      "IMF Country Report No. 17/40\n",
      "\n",
      "\n",
      "\n",
      "February 2017\n",
      "\n",
      "\n",
      "\n",
      "AUSTRALIA\n",
      "\n",
      "\n",
      "\n",
      "IMF Country Report No. 17/42\n",
      "\n",
      "\n",
      "\n",
      "February 2017\n",
      "\n",
      "\n",
      "\n",
      "IMF Country Report No. 17/50\n",
      "\n",
      "PEOPLE'S REPUBLIC OF CHINA MACAO SPECIAL ADMINISTRATIVE REGION\n",
      "\n",
      "2016 ARTICLE IV CONSULTATION--PRESS RELEASE; AND STAFF REPORT\n",
      "\n",
      "Under Article IV of the IMF's Articles of Agreement, the IMF holds bilateral discussions with members, usually every year. In the context of the 2016 Article IV consultation with the People's Republic of ChinaMacao Special Administrative Region, the following documents have been released and are included in this package:\n",
      "\n",
      "February 2017\n",
      "\n",
      "\n",
      "\n",
      "IMF Country Report No. 17/53\n",
      "\n",
      "LAO PEOPLE'S DEMOCRATIC REPUBLIC\n",
      "\n",
      "2016 ARTICLE IV CONSULTATION--PRESS RELEASE; STAFF REPORT; AND STATEMENT BY THE EXECUTIVE DIRECTOR FOR LAO PEOPLE'S DEMOCRATIC REPUBLIC\n",
      "\n",
      "Under Article IV of the IMF's Articles of Agreement, the IMF holds bilateral discussions with members, usually every year. In the context of the 2016 Article IV consultation with Lao People's Democratic Republic, the following documents have been released and are included in this package:\n",
      "\n",
      "July 2015\n",
      "\n",
      "\n",
      "\n",
      "FRANCE\n",
      "\n",
      "\n",
      "\n",
      "IMF Country Report No. 15/178\n",
      "\n",
      "\n",
      "\n"
     ]
    }
   ],
   "source": [
    "# SET FILE NAME TO COUNTRY--YEAR\n",
    "\n",
    "# clear/retrieve txt file\n",
    "txt_list = [txt for txt in os.listdir(output) if txt.endswith('.txt')]\n",
    "#print(txt_list)\n",
    "newOutput = os.getcwd() + '/txt/'\n",
    "# iterate and process txt_list to new txt folder\n",
    "for f in txt_list:\n",
    "    filepath=output+f\n",
    "    with open(filepath,encoding=\"ascii\",errors='ignore') as fp:\n",
    "        lp = fp.readlines()\n",
    "        fileName = ''\n",
    "        docDate = ''\n",
    "        for i, line in enumerate(lp):\n",
    "            print(line)\n",
    "           # retrieve doc date from 1st line\n",
    "            if i == 0:\n",
    "           # print(line.replace('\\n', ''))\n",
    "                docDate = line.replace('\\n', '')\n",
    "           # retrieve doc title from range(2,4)\n",
    "            if i in range(2, 4) and 'IMF' not in line:\n",
    "              # make sure line is not an empty line\n",
    "                if line.strip():\n",
    "                    fileName = line.replace('\\n', '') + '--' + docDate\n",
    "            if i > 4:\n",
    "                break\n",
    "                \n",
    "        if not os.path.exists(newOutput):\n",
    "            os.makedirs(newOutput)\n",
    "\n",
    "        shutil.copy(output + f, newOutput + fileName + '.txt')"
   ]
  },
  {
   "cell_type": "markdown",
   "metadata": {},
   "source": [
    "Remove the /tmp folder once copying process is done"
   ]
  },
  {
   "cell_type": "code",
   "execution_count": 9,
   "metadata": {
    "collapsed": true
   },
   "outputs": [],
   "source": [
    "shutil.rmtree(output)"
   ]
  },
  {
   "cell_type": "markdown",
   "metadata": {},
   "source": [
    "One we have the /txt folder, we can pass the txt to our nlp training model. I will start with tokenizing the text."
   ]
  },
  {
   "cell_type": "code",
   "execution_count": 14,
   "metadata": {
    "collapsed": false
   },
   "outputs": [
    {
     "name": "stdout",
     "output_type": "stream",
     "text": [
      "Context and outlook: The oil price shock that started in mid-2014 has substantially reduced fiscal revenue and exports, with growth coming to a halt and inflation accelerating sharply. This has brought to the forefront the need to address more forcefully vulnerabilities and dependence on oil, and to diversify the economy. The authorities have taken steps to mitigate the impact of the external shock: an 18 percent of GDP improvement in the non-oil primary fiscal balance over 2015-16, mainly through spending cuts including the removal of fuel subsidies, has been implemented; and the kwanza has been devalued against the U.S. dollar by over 40 percent since September 2014, with international reserves being used to smooth the depreciation. However, the exchange rate has been re-pegged since April 2016 leading to an appreciation of the kwanza in real terms, and further policy actions are needed to continue adjusting the economy to the `new normal' in the oil market and to return growth to a level consistent with poverty reduction.\n",
      "\n",
      "Focus of consultation: Discussions focused on policies to tackle macroeconomic imbalances while promoting financial stability, economic diversification, and growth.\n",
      "\n",
      "Key policy recommendations:\n",
      "\n",
      " Target an overall fiscal deficit for 2017 of less than 2¼ percent of GDP, consistent with an improvement in the non-oil primary fiscal balance by 1 percent of GDP.\n",
      "\n",
      " Over the medium term, target an improvement in the non-oil primary fiscal balance by 1 percent of GDP annually consistent with placing debt on a clearly declining path. This could be achieved by mobilizing additional non-oil taxes, and reducing current spending and increasing public investment while improving its efficiency.\n",
      "\n",
      " Adopt an improved medium-term fiscal framework (MTFF), focusing on spending rules and a well-designed fiscal stabilization fund to reduce spending pro-cyclicality.\n",
      "\n",
      " Move to a flexible but managed exchange rate regime to urgently address significant imbalances in the foreign exchange market, and develop a clear timetable for removal of exchange restrictions and multiple currency practices.\n",
      "\n",
      " Adopt a reserve money target consistent with the inflation objective.  Increase financial sector resilience by strengthening bank supervision, resolution and\n",
      "\n",
      "AML/CFT frameworks, and closing or recapitalizing weaker banks.  Promote economic diversification by improving the business environment, and by\n",
      "\n",
      "strengthening the role of the private sector in rebuilding infrastructure.\n",
      "\n",
      "\n",
      "\n",
      "\f",
      "ANGOLA\n",
      "\n"
     ]
    },
    {
     "data": {
      "text/plain": [
       "{'': '',\n",
       " ' Adopt a reserve money target consistent with the inflation objective': '  Increase financial sector resilience by strengthening bank supervision, resolution and',\n",
       " ' Adopt an improved medium-term fiscal framework (MTFF), focusing on spending rules and a well-designed fiscal stabilization fund to reduce spending pro-cyclicality': '',\n",
       " ' Move to a flexible but managed exchange rate regime to urgently address significant imbalances in the foreign exchange market, and develop a clear timetable for removal of exchange restrictions and multiple currency practices': '',\n",
       " ' Over the medium term, target an improvement in the non-oil primary fiscal balance by 1 percent of GDP annually consistent with placing debt on a clearly declining path': ' This could be achieved by mobilizing additional non-oil taxes, and reducing current spending and increasing public investment while improving its efficiency.',\n",
       " ' Target an overall fiscal deficit for 2017 of less than 2¼ percent of GDP, consistent with an improvement in the non-oil primary fiscal balance by 1 percent of GDP': '',\n",
       " 'AML/CFT frameworks, and closing or recapitalizing weaker banks': '  Promote economic diversification by improving the business environment, and by',\n",
       " 'Context and outlook: The oil price shock that started in mid-2014 has substantially reduced fiscal revenue and exports, with growth coming to a halt and inflation accelerating sharply': \" This has brought to the forefront the need to address more forcefully vulnerabilities and dependence on oil, and to diversify the economy. The authorities have taken steps to mitigate the impact of the external shock: an 18 percent of GDP improvement in the non-oil primary fiscal balance over 2015-16, mainly through spending cuts including the removal of fuel subsidies, has been implemented; and the kwanza has been devalued against the U.S. dollar by over 40 percent since September 2014, with international reserves being used to smooth the depreciation. However, the exchange rate has been re-pegged since April 2016 leading to an appreciation of the kwanza in real terms, and further policy actions are needed to continue adjusting the economy to the `new normal' in the oil market and to return growth to a level consistent with poverty reduction.\",\n",
       " 'Focus of consultation: Discussions focused on policies to tackle macroeconomic imbalances while promoting financial stability, economic diversification, and growth': '',\n",
       " 'Key policy recommendations:': '',\n",
       " 'strengthening the role of the private sector in rebuilding infrastructure': ''}"
      ]
     },
     "execution_count": 14,
     "metadata": {},
     "output_type": "execute_result"
    }
   ],
   "source": [
    "# TOKENIZE WORDS FROM TXT FILE\n",
    "\n",
    "from nltk import word_tokenize\n",
    "from nltk.corpus import stopwords\n",
    "import string\n",
    "import re\n",
    "\n",
    "countryList = [txt for txt in os.listdir(newOutput) if txt.endswith('.txt')]\n",
    "\n",
    "selectedCountry = countryList[0]\n",
    "country = selectedCountry.split('--')[0]\n",
    "year    = selectedCountry.split('--')[1:]\n",
    "\n",
    "country=\"ANGOLA\"\n",
    "txtFp = os.getcwd() + '/txt/'+ selectedCountry\n",
    "txtF = open(txtFp,errors=\"ignore\")\n",
    "\n",
    "keyIssues = {}\n",
    "with open(txtFp,errors=\"ignore\") as fp:\n",
    "    for line in fp:\n",
    "        if line.startswith(\"KEY ISSUES\"):\n",
    "            # 1st readLine start right under KEY ISSUES header\n",
    "            # each fp.readLine will return a paragraph ended with\n",
    "            line=fp.readline()\n",
    "            while 1:\n",
    "                print(line)\n",
    "                #print(\"==>\" + line)\n",
    "                if re.search(country+\"$\",line):\n",
    "                    break\n",
    "                issue = line.replace('\\n','').split('.')\n",
    "                issue = {'{}'.format(issue[0]) : '.'.join(issue[1:])}\n",
    "                \n",
    "                keyIssues.update(issue)\n",
    "                line=fp.readline()\n",
    "\n",
    "\n",
    "'''                \n",
    "#print(sections[\"keyissues\"])\n",
    "# continue to expand this regex for common stop signs in document\n",
    "docStopSigns = ['--', '\\'s', '...']\n",
    "\n",
    "# our stop list = English stopwords + common punctuation + docStopSigns\n",
    "stop = stopwords.words('english') \n",
    "\n",
    "# read txt file to string and loop word-to-word by word_tokenize\n",
    "# read bagOfWords to list MINUS ones from the stop list\n",
    "# finally, join list of string together making a sequences of string\n",
    "text = ' '.join( w for w in word_tokenize(sections[\"keyissues\"]) if w not in stop)\n",
    "'''\n",
    "keyIssues"
   ]
  },
  {
   "cell_type": "code",
   "execution_count": 65,
   "metadata": {
    "collapsed": false,
    "scrolled": false
   },
   "outputs": [
    {
     "name": "stdout",
     "output_type": "stream",
     "text": [
      "Context outlook : The oil price shock started mid-2014 substantially reduced fiscal revenue exports , growth coming halt inflation accelerating sharply . This brought forefront need address forcefully vulnerabilities dependence oil , diversify economy . The authorities taken steps mitigate impact external shock : 18 percent GDP improvement non-oil primary fiscal balance 2015-16 , mainly spending cuts including removal fuel subsidies , implemented ; kwanza devalued U.S. dollar 40 percent since September 2014 , international reserves used smooth depreciation . However , exchange rate re-pegged since April 2016 leading appreciation kwanza real terms , policy actions needed continue adjusting economy `new normal ' oil market return growth level consistent poverty reduction . Focus consultation : Discussions focused policies tackle macroeconomic imbalances promoting financial stability , economic diversification , growth . Key policy recommendations : Target overall fiscal deficit 2017 less 2 percent GDP , consistent improvement non-oil primary fiscal balance 1 percent GDP . Over medium term , target improvement non-oil primary fiscal balance 1 percent GDP annually consistent placing debt clearly declining path . This could achieved mobilizing additional non-oil taxes , reducing current spending increasing public investment improving efficiency . Adopt improved medium-term fiscal framework ( MTFF ) , focusing spending rules well-designed fiscal stabilization fund reduce spending pro-cyclicality . Move flexible managed exchange rate regime urgently address significant imbalances foreign exchange market , develop clear timetable removal exchange restrictions multiple currency practices . Adopt reserve money target consistent inflation objective . Increase financial sector resilience strengthening bank supervision , resolution AML/CFT frameworks , closing recapitalizing weaker banks . Promote economic diversification improving business environment , strengthening role private sector rebuilding infrastructure .\n"
     ]
    }
   ],
   "source": [
    "# FIND 50 MOST COMMON WORDS\n",
    "\n",
    "# find 50 most frequent words in the txt by FreqDist from nltk\n",
    "tokens = word_tokenize(text)\n",
    "nltkText = nltk.Text(tokens)\n",
    "\n",
    "\n",
    "fd = FreqDist(nltkText)\n",
    "common50 = fd.most_common(50)\n",
    "sorted(common50)\n",
    "print(' '.join(w for w in tokens))"
   ]
  },
  {
   "cell_type": "markdown",
   "metadata": {},
   "source": [
    "Since technical terms are usually complicated and containing multiple characters. I attempt to get rid of short words "
   ]
  },
  {
   "cell_type": "code",
   "execution_count": 56,
   "metadata": {
    "collapsed": false
   },
   "outputs": [
    {
     "data": {
      "text/plain": [
       "[('2015-16', 1),\n",
       " ('accelerating', 1),\n",
       " ('address', 2),\n",
       " ('authorities', 1),\n",
       " ('balance', 3),\n",
       " ('brought', 1),\n",
       " ('coming', 1),\n",
       " ('consistent', 4),\n",
       " ('context', 1),\n",
       " ('dependence', 1),\n",
       " ('diversification', 2),\n",
       " ('diversify', 1),\n",
       " ('economic', 2),\n",
       " ('economy', 2),\n",
       " ('exchange', 4),\n",
       " ('exports', 1),\n",
       " ('external', 1),\n",
       " ('financial', 2),\n",
       " ('fiscal', 7),\n",
       " ('forcefully', 1),\n",
       " ('forefront', 1),\n",
       " ('growth', 3),\n",
       " ('imbalances', 2),\n",
       " ('impact', 1),\n",
       " ('improvement', 3),\n",
       " ('improving', 2),\n",
       " ('including', 1),\n",
       " ('inflation', 2),\n",
       " ('kwanza', 2),\n",
       " ('mainly', 1),\n",
       " ('market', 2),\n",
       " ('mid-2014', 1),\n",
       " ('mitigate', 1),\n",
       " ('non-oil', 4),\n",
       " ('outlook', 1),\n",
       " ('percent', 5),\n",
       " ('policy', 2),\n",
       " ('primary', 3),\n",
       " ('reduced', 1),\n",
       " ('removal', 2),\n",
       " ('revenue', 1),\n",
       " ('sector', 2),\n",
       " ('sharply', 1),\n",
       " ('spending', 4),\n",
       " ('started', 1),\n",
       " ('strengthening', 2),\n",
       " ('subsidies', 1),\n",
       " ('substantially', 1),\n",
       " ('target', 3),\n",
       " ('vulnerabilities', 1)]"
      ]
     },
     "execution_count": 56,
     "metadata": {},
     "output_type": "execute_result"
    }
   ],
   "source": [
    "# check if word > 5 characters\n",
    "# lowercase to prevent repeat count: exp: ANGOLA vs angola\n",
    "longCharacter = [w.lower() for w in nltkText if len(w) > 5]\n",
    "\n",
    "# Count words freq from new word list and choose most common 50\n",
    "technicalCommon50 = sorted(FreqDist(longCharacter).most_common(50))\n",
    "technicalCommon50"
   ]
  },
  {
   "cell_type": "code",
   "execution_count": 60,
   "metadata": {
    "collapsed": false
   },
   "outputs": [
    {
     "name": "stdout",
     "output_type": "stream",
     "text": [
      "No matches\n"
     ]
    }
   ],
   "source": [
    "nltkText.similar('down')"
   ]
  },
  {
   "cell_type": "code",
   "execution_count": null,
   "metadata": {
    "collapsed": true
   },
   "outputs": [],
   "source": []
  }
 ],
 "metadata": {
  "celltoolbar": "Raw Cell Format",
  "kernelspec": {
   "display_name": "Python 3",
   "language": "python",
   "name": "python3"
  },
  "language_info": {
   "codemirror_mode": {
    "name": "ipython",
    "version": 3
   },
   "file_extension": ".py",
   "mimetype": "text/x-python",
   "name": "python",
   "nbconvert_exporter": "python",
   "pygments_lexer": "ipython3",
   "version": "3.5.2"
  }
 },
 "nbformat": 4,
 "nbformat_minor": 2
}
